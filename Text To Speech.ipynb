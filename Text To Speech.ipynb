{
 "cells": [
  {
   "cell_type": "code",
   "execution_count": 1,
   "metadata": {},
   "outputs": [
    {
     "name": "stdout",
     "output_type": "stream",
     "text": [
      "Processing c:\\users\\meraj\\appdata\\local\\pip\\cache\\wheels\\ff\\de\\b5\\79f9be24957fa20ee1a7e6ffa8a8e2a8da1ebfb44cac2789a1\\ibm_watson-4.4.0-cp37-none-any.whl\n",
      "Processing c:\\users\\meraj\\appdata\\local\\pip\\cache\\wheels\\40\\15\\30\\7d8f7cea2902b4db79e3fea550d7d7b85ecb27ef992b618f3f\\wget-3.2-cp37-none-any.whl\n",
      "Collecting websocket-client==0.48.0\n",
      "  Using cached websocket_client-0.48.0-py2.py3-none-any.whl (198 kB)\n",
      "Requirement already satisfied: python-dateutil>=2.5.3 in c:\\users\\meraj\\anaconda3\\lib\\site-packages (from ibm_watson) (2.8.1)\n",
      "Processing c:\\users\\meraj\\appdata\\local\\pip\\cache\\wheels\\6a\\42\\50\\f96888116b329578304f9dda4693cef6f3e76e18272d22cb6c\\ibm_cloud_sdk_core-1.5.1-cp37-none-any.whl\n",
      "Requirement already satisfied: requests<3.0,>=2.0 in c:\\users\\meraj\\anaconda3\\lib\\site-packages (from ibm_watson) (2.22.0)\n",
      "Requirement already satisfied: six in c:\\users\\meraj\\anaconda3\\lib\\site-packages (from websocket-client==0.48.0->ibm_watson) (1.14.0)\n",
      "Collecting PyJWT>=1.7.1\n",
      "  Using cached PyJWT-1.7.1-py2.py3-none-any.whl (18 kB)\n",
      "Requirement already satisfied: urllib3!=1.25.0,!=1.25.1,<1.26,>=1.21.1 in c:\\users\\meraj\\anaconda3\\lib\\site-packages (from requests<3.0,>=2.0->ibm_watson) (1.25.8)\n",
      "Requirement already satisfied: chardet<3.1.0,>=3.0.2 in c:\\users\\meraj\\anaconda3\\lib\\site-packages (from requests<3.0,>=2.0->ibm_watson) (3.0.4)\n",
      "Requirement already satisfied: certifi>=2017.4.17 in c:\\users\\meraj\\anaconda3\\lib\\site-packages (from requests<3.0,>=2.0->ibm_watson) (2019.11.28)\n",
      "Requirement already satisfied: idna<2.9,>=2.5 in c:\\users\\meraj\\anaconda3\\lib\\site-packages (from requests<3.0,>=2.0->ibm_watson) (2.8)\n",
      "Installing collected packages: websocket-client, PyJWT, ibm-cloud-sdk-core, ibm-watson, wget\n",
      "Successfully installed PyJWT-1.7.1 ibm-cloud-sdk-core-1.5.1 ibm-watson-4.4.0 websocket-client-0.48.0 wget-3.2\n"
     ]
    }
   ],
   "source": [
    "!pip install ibm_watson wget"
   ]
  },
  {
   "cell_type": "code",
   "execution_count": 3,
   "metadata": {},
   "outputs": [],
   "source": [
    "from ibm_watson import TextToSpeechV1\n",
    "from ibm_cloud_sdk_core.authenticators import IAMAuthenticator"
   ]
  },
  {
   "cell_type": "code",
   "execution_count": 4,
   "metadata": {},
   "outputs": [
    {
     "name": "stdout",
     "output_type": "stream",
     "text": [
      "<ibm_watson.text_to_speech_adapter_v1.TextToSpeechV1Adapter object at 0x01261970>\n"
     ]
    }
   ],
   "source": [
    "url_t2s = \"https://api.us-south.text-to-speech.watson.cloud.ibm.com/instances/459c73f6-c411-478f-b102-a2205358e2b2\"\n",
    "api_key = \"HOh_DVXiwWU5UWor7n0UXKQA0KF5-8eAMKYaICajaQIU\"\n",
    "\n",
    "authenticator = IAMAuthenticator(api_key)\n",
    "t2s = TextToSpeechV1(authenticator=authenticator)\n",
    "t2s.set_service_url(url_t2s)\n",
    "print(t2s)"
   ]
  },
  {
   "cell_type": "code",
   "execution_count": 10,
   "metadata": {},
   "outputs": [],
   "source": [
    "with open('Audio_File.wav', 'wb') as af:\n",
    "    af.write(t2s.synthesize('Fuck You Asshole',voice='en-US_MichaelVoice',\n",
    "            accept='audio/wav').get_result().content)"
   ]
  }
 ],
 "metadata": {
  "kernelspec": {
   "display_name": "Python 3",
   "language": "python",
   "name": "python3"
  },
  "language_info": {
   "codemirror_mode": {
    "name": "ipython",
    "version": 3
   },
   "file_extension": ".py",
   "mimetype": "text/x-python",
   "name": "python",
   "nbconvert_exporter": "python",
   "pygments_lexer": "ipython3",
   "version": "3.7.6"
  }
 },
 "nbformat": 4,
 "nbformat_minor": 4
}
